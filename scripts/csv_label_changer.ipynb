{
 "cells": [
  {
   "cell_type": "code",
   "execution_count": 1,
   "metadata": {},
   "outputs": [],
   "source": [
    "import pandas as pd"
   ]
  },
  {
   "cell_type": "code",
   "execution_count": 4,
   "metadata": {},
   "outputs": [
    {
     "name": "stdout",
     "output_type": "stream",
     "text": [
      "CSV dosyasındaki etiketler başarıyla değiştirildi. 4 satır silindi.\n"
     ]
    }
   ],
   "source": [
    "df = pd.read_csv('../datasets/dataset2.csv')\n",
    "\n",
    "affected_rows_before = df.shape[0]\n",
    "\n",
    "valid_labels = ['0', '1']\n",
    "\n",
    "df['label'] = df['label'].apply(lambda x: x if str(x) in valid_labels else pd.NA)\n",
    "\n",
    "# Belirli bir değere sahip olmayan satırları filtrele\n",
    "df_filtered = df.dropna(subset=['label'])\n",
    "\n",
    "affected_rows_after = df_filtered.shape[0]\n",
    "affected_rows = affected_rows_before - affected_rows_after\n",
    "\n",
    "# \"label\" sütunundaki değerlere göre \"anom\" ve \"norm\" etiketlerini ata\n",
    "df['label'] = df['label'].apply(lambda x: 'anom' if str(x) == '1' else 'norm')\n",
    "\n",
    "df.to_csv('../datasets/dataset2.csv', index=False)\n",
    "\n",
    "print(f\"CSV dosyasındaki etiketler başarıyla değiştirildi. {affected_rows} satır silindi.\")"
   ]
  }
 ],
 "metadata": {
  "kernelspec": {
   "display_name": "base",
   "language": "python",
   "name": "python3"
  },
  "language_info": {
   "codemirror_mode": {
    "name": "ipython",
    "version": 3
   },
   "file_extension": ".py",
   "mimetype": "text/x-python",
   "name": "python",
   "nbconvert_exporter": "python",
   "pygments_lexer": "ipython3",
   "version": "3.11.5"
  }
 },
 "nbformat": 4,
 "nbformat_minor": 2
}
