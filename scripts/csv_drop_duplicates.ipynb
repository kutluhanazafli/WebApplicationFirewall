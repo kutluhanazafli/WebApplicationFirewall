{
 "cells": [
  {
   "cell_type": "code",
   "execution_count": 2,
   "metadata": {},
   "outputs": [],
   "source": [
    "import pandas as pd"
   ]
  },
  {
   "cell_type": "code",
   "execution_count": 3,
   "metadata": {},
   "outputs": [
    {
     "name": "stdout",
     "output_type": "stream",
     "text": [
      "0 satır aynı payload'a sahip olduğu için silindi.\n"
     ]
    }
   ],
   "source": [
    "df = pd.read_csv('../datasets/dataset3.csv')  \n",
    "\n",
    "before_rows = df.shape[0]\n",
    "\n",
    "df = df.drop_duplicates(subset='payload', keep='first')\n",
    "\n",
    "after_rows = df.shape[0]\n",
    "\n",
    "deleted_rows = before_rows - after_rows\n",
    "\n",
    "df.to_csv('../datasets/dataset3.csv', index=False) \n",
    "\n",
    "print(f\"{deleted_rows} satır aynı payload'a sahip olduğu için silindi.\")"
   ]
  }
 ],
 "metadata": {
  "kernelspec": {
   "display_name": "base",
   "language": "python",
   "name": "python3"
  },
  "language_info": {
   "codemirror_mode": {
    "name": "ipython",
    "version": 3
   },
   "file_extension": ".py",
   "mimetype": "text/x-python",
   "name": "python",
   "nbconvert_exporter": "python",
   "pygments_lexer": "ipython3",
   "version": "3.11.5"
  }
 },
 "nbformat": 4,
 "nbformat_minor": 2
}
