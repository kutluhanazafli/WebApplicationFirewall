{
 "cells": [
  {
   "cell_type": "code",
   "execution_count": 1,
   "metadata": {},
   "outputs": [],
   "source": [
    "from faker import Faker\n",
    "import csv\n",
    "import pandas as pd"
   ]
  },
  {
   "cell_type": "code",
   "execution_count": 2,
   "metadata": {},
   "outputs": [
    {
     "name": "stdout",
     "output_type": "stream",
     "text": [
      "416 satır aynı payload'a sahip olduğu için silindi.\n"
     ]
    }
   ],
   "source": [
    "fake = Faker()\n",
    "\n",
    "new_csv_file_path = \"../datasets/dataset_generated.csv\"\n",
    "\n",
    "num_samples = 5000\n",
    "\n",
    "with open(new_csv_file_path, mode='w', newline='', encoding='utf-8') as file:\n",
    "    writer = csv.writer(file)\n",
    "\n",
    "    writer.writerow(['payload', 'label'])\n",
    "\n",
    "    for _ in range(num_samples):\n",
    "        # Rastgele olarak farklı türlerde veri üret\n",
    "        data_type = fake.random_element(elements=('phone_number', 'email', 'country', 'city', 'date_of_birth', 'credit_card_number', 'company', 'text'))\n",
    "\n",
    "        if data_type == 'phone_number':\n",
    "            payload = fake.phone_number()\n",
    "        elif data_type == 'email':\n",
    "            payload = fake.email()\n",
    "        elif data_type == 'country':\n",
    "            payload = fake.country()\n",
    "        elif data_type == 'city':\n",
    "            payload = fake.city()\n",
    "        elif data_type == 'date_of_birth':\n",
    "            payload = fake.date_of_birth()\n",
    "        elif data_type == 'credit_card_number':\n",
    "            payload = fake.credit_card_number()\n",
    "        elif data_type == 'company':\n",
    "            payload = fake.company()\n",
    "        else:\n",
    "            payload = fake.sentence(nb_words=10, variable_nb_words=True).rstrip('.')  # Virgülsüz ve noktasız cümle oluştur\n",
    "\n",
    "        label = \"norm\"\n",
    "        writer.writerow([payload, label])\n",
    "        \n",
    "df = pd.read_csv('../datasets/dataset_generated.csv')  \n",
    "\n",
    "before_rows = df.shape[0]\n",
    "\n",
    "df = df.drop_duplicates(subset='payload', keep='first')\n",
    "\n",
    "after_rows = df.shape[0]\n",
    "\n",
    "deleted_rows = before_rows - after_rows\n",
    "\n",
    "df.to_csv('../datasets/dataset_generated.csv', index=False) \n",
    "\n",
    "print(f\"{deleted_rows} satır aynı payload'a sahip olduğu için silindi.\")"
   ]
  }
 ],
 "metadata": {
  "kernelspec": {
   "display_name": "base",
   "language": "python",
   "name": "python3"
  },
  "language_info": {
   "codemirror_mode": {
    "name": "ipython",
    "version": 3
   },
   "file_extension": ".py",
   "mimetype": "text/x-python",
   "name": "python",
   "nbconvert_exporter": "python",
   "pygments_lexer": "ipython3",
   "version": "3.11.5"
  }
 },
 "nbformat": 4,
 "nbformat_minor": 2
}
