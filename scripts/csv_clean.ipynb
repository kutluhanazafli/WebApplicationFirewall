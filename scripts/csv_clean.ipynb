{
 "cells": [
  {
   "cell_type": "code",
   "execution_count": 1,
   "metadata": {},
   "outputs": [],
   "source": [
    "import pandas as pd"
   ]
  },
  {
   "cell_type": "code",
   "execution_count": 2,
   "metadata": {},
   "outputs": [
    {
     "name": "stdout",
     "output_type": "stream",
     "text": [
      "304 satır etkilendi. Belirli sütunda herhangi bir veri olan satırlar silindi.\n"
     ]
    }
   ],
   "source": [
    "df = pd.read_csv('../datasets/fail.csv')\n",
    "\n",
    "condition = df['fail'].notna() \n",
    "\n",
    "affected_rows = df[condition].shape[0]\n",
    "\n",
    "df_filtered = df[~condition]\n",
    "\n",
    "print(f\"{affected_rows} satır etkilendi. Belirli sütunda herhangi bir veri olan satırlar silindi.\")\n",
    "\n",
    "df_filtered.to_csv('../datasets/fix.csv', index=False)"
   ]
  }
 ],
 "metadata": {
  "kernelspec": {
   "display_name": "base",
   "language": "python",
   "name": "python3"
  },
  "language_info": {
   "codemirror_mode": {
    "name": "ipython",
    "version": 3
   },
   "file_extension": ".py",
   "mimetype": "text/x-python",
   "name": "python",
   "nbconvert_exporter": "python",
   "pygments_lexer": "ipython3",
   "version": "3.11.5"
  }
 },
 "nbformat": 4,
 "nbformat_minor": 2
}
