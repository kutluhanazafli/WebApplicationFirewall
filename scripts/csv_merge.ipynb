{
 "cells": [
  {
   "cell_type": "code",
   "execution_count": 1,
   "id": "initial_id",
   "metadata": {
    "ExecuteTime": {
     "end_time": "2024-01-01T17:18:50.077959600Z",
     "start_time": "2024-01-01T17:18:50.062174300Z"
    },
    "collapsed": true
   },
   "outputs": [],
   "source": [
    "import pandas as pd"
   ]
  },
  {
   "cell_type": "code",
   "execution_count": 2,
   "id": "17bc8d51df0bf9b5",
   "metadata": {
    "collapsed": false
   },
   "outputs": [
    {
     "name": "stdout",
     "output_type": "stream",
     "text": [
      "CSV dosyaları başarıyla birleştirildi.\n"
     ]
    }
   ],
   "source": [
    "df1 = pd.read_csv('../datasets/dataset1.csv')\n",
    "\n",
    "df2 = pd.read_csv('../datasets/dataset2.csv')\n",
    "\n",
    "# İki DataFrame'i alt alta birleştir\n",
    "merged_df = pd.concat([df1, df2], axis=0, ignore_index=True)\n",
    "\n",
    "merged_df.to_csv('../datasets/dataset3.csv', index=False)\n",
    "\n",
    "print(\"CSV dosyaları başarıyla birleştirildi.\")"
   ]
  }
 ],
 "metadata": {
  "kernelspec": {
   "display_name": "Python 3",
   "language": "python",
   "name": "python3"
  },
  "language_info": {
   "codemirror_mode": {
    "name": "ipython",
    "version": 3
   },
   "file_extension": ".py",
   "mimetype": "text/x-python",
   "name": "python",
   "nbconvert_exporter": "python",
   "pygments_lexer": "ipython3",
   "version": "3.11.5"
  }
 },
 "nbformat": 4,
 "nbformat_minor": 5
}
