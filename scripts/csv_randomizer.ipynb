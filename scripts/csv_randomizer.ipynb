{
 "cells": [
  {
   "cell_type": "code",
   "execution_count": 1,
   "metadata": {},
   "outputs": [],
   "source": [
    "import pandas as pd\n",
    "import random"
   ]
  },
  {
   "cell_type": "code",
   "execution_count": 2,
   "metadata": {},
   "outputs": [
    {
     "name": "stdout",
     "output_type": "stream",
     "text": [
      "../datasets/dataset3.csv dosyasındaki satırlar rastgele bir şekilde karıştırıldı ve ../datasets/dataset4.csv dosyasına kaydedildi.\n"
     ]
    }
   ],
   "source": [
    "input_file = '../datasets/dataset3.csv'  # CSV dosyasının adını değiştirin\n",
    "output_file = '../datasets/dataset4.csv'  # Karıştırılmış CSV dosyasının adını değiştirin\n",
    "\n",
    "df = pd.read_csv(input_file)\n",
    "\n",
    "# Satırları rastgele karıştır\n",
    "shuffled_df = df.sample(frac=1, random_state=random.seed())\n",
    "\n",
    "# Karıştırılmış veriyi yeni bir CSV dosyasına yaz\n",
    "shuffled_df.to_csv(output_file, index=False)\n",
    "\n",
    "print(f\"{input_file} dosyasındaki satırlar rastgele bir şekilde karıştırıldı ve {output_file} dosyasına kaydedildi.\")"
   ]
  }
 ],
 "metadata": {
  "kernelspec": {
   "display_name": "base",
   "language": "python",
   "name": "python3"
  },
  "language_info": {
   "codemirror_mode": {
    "name": "ipython",
    "version": 3
   },
   "file_extension": ".py",
   "mimetype": "text/x-python",
   "name": "python",
   "nbconvert_exporter": "python",
   "pygments_lexer": "ipython3",
   "version": "3.11.5"
  }
 },
 "nbformat": 4,
 "nbformat_minor": 2
}
