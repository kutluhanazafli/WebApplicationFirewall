{
 "cells": [
  {
   "cell_type": "code",
   "execution_count": 1,
   "metadata": {},
   "outputs": [],
   "source": [
    "import pandas as pd"
   ]
  },
  {
   "cell_type": "code",
   "execution_count": 3,
   "metadata": {},
   "outputs": [
    {
     "name": "stdout",
     "output_type": "stream",
     "text": [
      "CSV dosyasındaki veriler 'norm' olanlar önce, 'anom' olanlar sonra sıralandı.\n"
     ]
    }
   ],
   "source": [
    "df = pd.read_csv('../datasets/dataset3.csv')\n",
    "\n",
    "# \"label\" sütununa göre sırala, norm etiketleri önce, anom etiketleri sonra\n",
    "df = df.sort_values(by='label', ascending=False)\n",
    "\n",
    "df.to_csv('../datasets/dataset3.csv', index=False)  \n",
    "\n",
    "print(\"CSV dosyasındaki veriler 'norm' olanlar önce, 'anom' olanlar sonra sıralandı.\")"
   ]
  }
 ],
 "metadata": {
  "kernelspec": {
   "display_name": "base",
   "language": "python",
   "name": "python3"
  },
  "language_info": {
   "codemirror_mode": {
    "name": "ipython",
    "version": 3
   },
   "file_extension": ".py",
   "mimetype": "text/x-python",
   "name": "python",
   "nbconvert_exporter": "python",
   "pygments_lexer": "ipython3",
   "version": "3.11.5"
  }
 },
 "nbformat": 4,
 "nbformat_minor": 2
}
